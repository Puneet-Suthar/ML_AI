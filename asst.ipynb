{
 "cells": [
  {
   "cell_type": "code",
   "execution_count": 25,
   "metadata": {},
   "outputs": [],
   "source": [
    "import speech_recognition as sr\n",
    "import tensorflow as tf\n",
    "import cv2\n",
    "import matplotlib.pyplot as plt\n",
    "\n",
    "from gtts import gTTS\n",
    "import pygame\n",
    "import webbrowser"
   ]
  },
  {
   "cell_type": "code",
   "execution_count": 3,
   "metadata": {},
   "outputs": [
    {
     "name": "stdout",
     "output_type": "stream",
     "text": [
      "Collecting pyaudio\n",
      "  Using cached PyAudio-0.2.13-cp311-cp311-win_amd64.whl (164 kB)\n",
      "Installing collected packages: pyaudio\n",
      "Successfully installed pyaudio-0.2.13\n"
     ]
    },
    {
     "name": "stderr",
     "output_type": "stream",
     "text": [
      "\n",
      "[notice] A new release of pip available: 22.3.1 -> 23.2.1\n",
      "[notice] To update, run: python.exe -m pip install --upgrade pip\n"
     ]
    }
   ],
   "source": [
    "# ! pip install pyaudio"
   ]
  },
  {
   "cell_type": "code",
   "execution_count": 30,
   "metadata": {},
   "outputs": [
    {
     "name": "stdout",
     "output_type": "stream",
     "text": [
      "Microphone with name \"Microsoft Sound Mapper - Input\" found for `Microphone(device_index=0)`\n",
      "Microphone with name \"Microphone Array (Realtek(R) Au\" found for `Microphone(device_index=1)`\n",
      "Microphone with name \"Microphone (DroidCam Virtual Au\" found for `Microphone(device_index=2)`\n",
      "Microphone with name \"Headset (OnePlus Bullets Wirele\" found for `Microphone(device_index=3)`\n",
      "Microphone with name \"Line 1 (Virtual Audio Cable)\" found for `Microphone(device_index=4)`\n",
      "Microphone with name \"Microsoft Sound Mapper - Output\" found for `Microphone(device_index=5)`\n",
      "Microphone with name \"Headphones (OnePlus Bullets Wir\" found for `Microphone(device_index=6)`\n",
      "Microphone with name \"Line 1 (Virtual Audio Cable)\" found for `Microphone(device_index=7)`\n",
      "Microphone with name \"Speakers (Realtek(R) Audio)\" found for `Microphone(device_index=8)`\n",
      "Microphone with name \"Primary Sound Capture Driver\" found for `Microphone(device_index=9)`\n",
      "Microphone with name \"Microphone Array (Realtek(R) Audio)\" found for `Microphone(device_index=10)`\n",
      "Microphone with name \"Microphone (DroidCam Virtual Audio)\" found for `Microphone(device_index=11)`\n",
      "Microphone with name \"Headset (OnePlus Bullets Wireless Z)\" found for `Microphone(device_index=12)`\n",
      "Microphone with name \"Line 1 (Virtual Audio Cable)\" found for `Microphone(device_index=13)`\n",
      "Microphone with name \"Primary Sound Driver\" found for `Microphone(device_index=14)`\n",
      "Microphone with name \"Headphones (OnePlus Bullets Wireless Z)\" found for `Microphone(device_index=15)`\n",
      "Microphone with name \"Line 1 (Virtual Audio Cable)\" found for `Microphone(device_index=16)`\n",
      "Microphone with name \"Speakers (Realtek(R) Audio)\" found for `Microphone(device_index=17)`\n",
      "Microphone with name \"Headphones (OnePlus Bullets Wireless Z)\" found for `Microphone(device_index=18)`\n",
      "Microphone with name \"Line 1 (Virtual Audio Cable)\" found for `Microphone(device_index=19)`\n",
      "Microphone with name \"Speakers (Realtek(R) Audio)\" found for `Microphone(device_index=20)`\n",
      "Microphone with name \"Microphone Array (Realtek(R) Audio)\" found for `Microphone(device_index=21)`\n",
      "Microphone with name \"Microphone (DroidCam Virtual Audio)\" found for `Microphone(device_index=22)`\n",
      "Microphone with name \"Headset (OnePlus Bullets Wireless Z)\" found for `Microphone(device_index=23)`\n",
      "Microphone with name \"Line 1 (Virtual Audio Cable)\" found for `Microphone(device_index=24)`\n",
      "Microphone with name \"Stereo Mix (Realtek HD Audio Stereo input)\" found for `Microphone(device_index=25)`\n",
      "Microphone with name \"Microphone Array 1 (Realtek HD Audio Mic input with SST)\" found for `Microphone(device_index=26)`\n",
      "Microphone with name \"Microphone Array 2 (Realtek HD Audio Mic input with SST)\" found for `Microphone(device_index=27)`\n",
      "Microphone with name \"Headphones 1 (Realtek HD Audio 2nd output with SST)\" found for `Microphone(device_index=28)`\n",
      "Microphone with name \"Headphones 2 (Realtek HD Audio 2nd output with SST)\" found for `Microphone(device_index=29)`\n",
      "Microphone with name \"PC Speaker (Realtek HD Audio 2nd output with SST)\" found for `Microphone(device_index=30)`\n",
      "Microphone with name \"Speakers 1 (Realtek HD Audio output with SST)\" found for `Microphone(device_index=31)`\n",
      "Microphone with name \"Speakers 2 (Realtek HD Audio output with SST)\" found for `Microphone(device_index=32)`\n",
      "Microphone with name \"PC Speaker (Realtek HD Audio output with SST)\" found for `Microphone(device_index=33)`\n",
      "Microphone with name \"MIDI (DroidCam Audio)\" found for `Microphone(device_index=34)`\n",
      "Microphone with name \"Output (DroidCam Audio)\" found for `Microphone(device_index=35)`\n",
      "Microphone with name \"Line Out (Virtual Cable 1)\" found for `Microphone(device_index=36)`\n",
      "Microphone with name \"Line 1 (Virtual Cable 1)\" found for `Microphone(device_index=37)`\n",
      "Microphone with name \"Output 1 (@System32\\drivers\\bthhfenum.sys,#2;%1 Hands-Free%0\n",
      ";(OnePlus Bullets Wireless Z))\" found for `Microphone(device_index=38)`\n",
      "Microphone with name \"Output 2 (@System32\\drivers\\bthhfenum.sys,#2;%1 Hands-Free%0\n",
      ";(OnePlus Bullets Wireless Z))\" found for `Microphone(device_index=39)`\n",
      "Microphone with name \"Input (@System32\\drivers\\bthhfenum.sys,#2;%1 Hands-Free%0\n",
      ";(OnePlus Bullets Wireless Z))\" found for `Microphone(device_index=40)`\n",
      "Microphone with name \"Output 3 (@System32\\drivers\\bthhfenum.sys,#2;%1 Hands-Free%0\n",
      ";(OnePlus Bullets Wireless Z))\" found for `Microphone(device_index=41)`\n",
      "Microphone with name \"Headset 1 (@System32\\drivers\\bthhfenum.sys,#2;%1 Hands-Free%0\n",
      ";(OnePlus Bullets Wireless Z))\" found for `Microphone(device_index=42)`\n",
      "Microphone with name \"Headset 2 (@System32\\drivers\\bthhfenum.sys,#2;%1 Hands-Free%0\n",
      ";(OnePlus Bullets Wireless Z))\" found for `Microphone(device_index=43)`\n",
      "Microphone with name \"Headset 3 (@System32\\drivers\\bthhfenum.sys,#2;%1 Hands-Free%0\n",
      ";(OnePlus Bullets Wireless Z))\" found for `Microphone(device_index=44)`\n",
      "Microphone with name \"Headphones ()\" found for `Microphone(device_index=45)`\n"
     ]
    }
   ],
   "source": [
    "for index, name in enumerate(sr.Microphone().list_microphone_names()):\n",
    "    print(\"Microphone with name \\\"{1}\\\" found for `Microphone(device_index={0})`\".format(index, name))"
   ]
  },
  {
   "cell_type": "code",
   "execution_count": 5,
   "metadata": {},
   "outputs": [],
   "source": [
    "def listen_to_user():\n",
    "    r = sr.Recognizer()\n",
    "    with sr.Microphone(device_index=3) as source:\n",
    "        print(\"listening...\")\n",
    "        audio = r.listen(source)\n",
    "        \n",
    "        try:\n",
    "            text = r.recognize_google(audio)\n",
    "            return text\n",
    "        except sr.UnknownValueError:\n",
    "            print(\"Muje samaj nahi aaya\")\n",
    "            return None\n",
    "            "
   ]
  },
  {
   "cell_type": "code",
   "execution_count": 6,
   "metadata": {},
   "outputs": [
    {
     "name": "stdout",
     "output_type": "stream",
     "text": [
      "listening...\n"
     ]
    },
    {
     "data": {
      "text/plain": [
       "'can you hear me'"
      ]
     },
     "execution_count": 6,
     "metadata": {},
     "output_type": "execute_result"
    }
   ],
   "source": [
    "listen_to_user()"
   ]
  },
  {
   "cell_type": "code",
   "execution_count": 9,
   "metadata": {},
   "outputs": [],
   "source": [
    "# download efficient net\n",
    "efficientnet = tf.keras.applications.EfficientNetB3(weights='imagenet')"
   ]
  },
  {
   "cell_type": "code",
   "execution_count": 13,
   "metadata": {},
   "outputs": [],
   "source": [
    "def describe_image():\n",
    "    cap = cv2.VideoCapture(2)\n",
    "    flag,img = cap.read()\n",
    "    img = img[:,:,::-1]\n",
    "    plt.imshow(img)\n",
    "    \n",
    "    img_array = cv2.resize(img, (300,300))\n",
    "    img_array = tf.expand_dims(img_array, axis = 0)\n",
    "    img_array = tf.keras.applications.efficientnet.preprocess_input(img_array)\n",
    "    \n",
    "    prediciton = efficientnet.predict(img_array)\n",
    "    decoded_pred = tf.keras.applications.efficientnet.decode_predictions(prediciton, top = 1)[0][0][1]  \n",
    "    \n",
    "    return f'I think the image contains {decoded_pred}'  "
   ]
  },
  {
   "cell_type": "code",
   "execution_count": 14,
   "metadata": {},
   "outputs": [
    {
     "name": "stdout",
     "output_type": "stream",
     "text": [
      "1/1 [==============================] - 5s 5s/step\n"
     ]
    },
    {
     "data": {
      "text/plain": [
       "'I think the image contains parachute'"
      ]
     },
     "execution_count": 14,
     "metadata": {},
     "output_type": "execute_result"
    },
    {
     "data": {
      "image/png": "[encoded data removed]",
      "text/plain": [
       "<Figure size 640x480 with 1 Axes>"
      ]
     },
     "metadata": {},
     "output_type": "display_data"
    }
   ],
   "source": [
    "describe_image()"
   ]
  },
  {
   "cell_type": "code",
   "execution_count": 18,
   "metadata": {},
   "outputs": [],
   "source": [
    "def no_gen():\n",
    "    num = 1\n",
    "    while True:\n",
    "        yield num\n",
    "        num += 1\n",
    "        \n",
    "gen = no_gen()"
   ]
  },
  {
   "cell_type": "code",
   "execution_count": 22,
   "metadata": {},
   "outputs": [],
   "source": [
    "def speak(text):\n",
    "    tts = gTTS(text= text, lang= 'en')\n",
    "    resp_no = next(gen)\n",
    "    audio_file = f'response{resp_no}.mp3'\n",
    "    tts.save(audio_file)\n",
    "    \n",
    "    pygame.mixer.init()\n",
    "    pygame.mixer.music.load(audio_file)\n",
    "    pygame.mixer.music.play()\n",
    "    while pygame.mixer.music.get_busy():\n",
    "        continue"
   ]
  },
  {
   "cell_type": "code",
   "execution_count": 29,
   "metadata": {},
   "outputs": [],
   "source": [
    "speak(\"how are you\")"
   ]
  },
  {
   "cell_type": "code",
   "execution_count": 26,
   "metadata": {},
   "outputs": [],
   "source": [
    "def main():\n",
    "    user_input = listen_to_user()\n",
    "    \n",
    "    if user_input:\n",
    "        if 'describe the image' in user_input.lower():\n",
    "            response = describe_image()\n",
    "        elif 'play my song' in user_input.lower():\n",
    "            webbrowser.open('https://www.youtube.com/')\n",
    "            response = \"playing your song\"\n",
    "        \n",
    "        print('Assistant Resp : ',response)\n",
    "        speak(response)\n",
    "        "
   ]
  },
  {
   "cell_type": "code",
   "execution_count": 27,
   "metadata": {},
   "outputs": [
    {
     "name": "stdout",
     "output_type": "stream",
     "text": [
      "listening...\n",
      "Assistant Resp :  playing your song\n"
     ]
    }
   ],
   "source": [
    "main()"
   ]
  },
  {
   "cell_type": "code",
   "execution_count": null,
   "metadata": {},
   "outputs": [],
   "source": []
  }
 ],
 "metadata": {
  "kernelspec": {
   "display_name": "ai_asst",
   "language": "python",
   "name": "python3"
  },
  "language_info": {
   "codemirror_mode": {
    "name": "ipython",
    "version": 3
   },
   "file_extension": ".py",
   "mimetype": "text/x-python",
   "name": "python",
   "nbconvert_exporter": "python",
   "pygments_lexer": "ipython3",
   "version": "3.11.3"
  },
  "orig_nbformat": 4
 },
 "nbformat": 4,
 "nbformat_minor": 2
}
