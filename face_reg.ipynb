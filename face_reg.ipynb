{
 "cells": [
  {
   "cell_type": "code",
   "execution_count": null,
   "metadata": {},
   "outputs": [],
   "source": [
    "name = []\n",
    "enc = []"
   ]
  },
  {
   "cell_type": "code",
   "execution_count": null,
   "metadata": {},
   "outputs": [],
   "source": [
    "import cv2\n",
    "import face_recognition as fr\n",
    "\n",
    "fd = cv2.CascadeClassifier(cv2.data.haarcascades + \"haarcascade_frontalface_default.xml\")\n",
    "\n",
    "# Video read using web cam\n",
    "vid = cv2.VideoCapture(0)\n",
    "counter = 0\n",
    "captured = True\n",
    "\n",
    "# mai loop to read and show image until we break the loop\n",
    "while captured :\n",
    "    flag , img = vid.read()\n",
    "    cropped_face = img\n",
    "    # if flag is true then only show image\n",
    "    if flag:\n",
    "        faces = fd.detectMultiScale(img,1.1 ,5)\n",
    "        for x,y,w,h in faces:\n",
    "            cropped_face = img[y:y+h, x:x+w]\n",
    "            \n",
    "            # It will check if face is present in front of cam for 20 frames\n",
    "            if len(faces) == 1:\n",
    "                counter += 1\n",
    "                print(counter)\n",
    "                if counter == 1000 :\n",
    "                    captured = False\n",
    "            else:\n",
    "                counter = 0\n",
    "            \n",
    "        cv2.imshow(\"webcam_image\",cropped_face)    \n",
    "        # cv2.imshow(\"webcam_image\",img)\n",
    "        key = cv2.waitKey(1)\n",
    "        if key == ord(\"q\"):\n",
    "            break\n",
    "    else:\n",
    "        break\n",
    "cv2.destroyAllWindows()\n",
    "vid.release()\n",
    "\n",
    "name.append(input(\"enter your name\"))\n",
    "enc.append(fr.face_encodings(cropped_face))\n"
   ]
  },
  {
   "cell_type": "code",
   "execution_count": null,
   "metadata": {},
   "outputs": [],
   "source": [
    "import pandas as pd\n",
    "\n",
    "final_data = {\"NAMES\":name, \"ENC\":enc}\n",
    "database = pd.DataFrame(final_data)\n",
    "display(database)\n",
    "database.to_csv(\"face_database.csv\")"
   ]
  }
 ],
 "metadata": {
  "language_info": {
   "name": "python"
  },
  "orig_nbformat": 4
 },
 "nbformat": 4,
 "nbformat_minor": 2
}
